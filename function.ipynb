{
 "cells": [
  {
   "cell_type": "code",
   "execution_count": 3,
   "id": "467ff7da-3a52-4af0-b3d0-106e3d907c49",
   "metadata": {},
   "outputs": [
    {
     "name": "stdout",
     "output_type": "stream",
     "text": [
      "This is a function\n"
     ]
    }
   ],
   "source": [
    "#Theory Questions\n",
    "\n",
    "\n",
    "#Q1. What is the difference between a function and a method in Python?\n",
    "\n",
    "# ans: >> A function is a block of code that is defined outside of a class \n",
    "#function is a structured, reusable code block utilized for carrying out a specific task. Functions facilitate \n",
    "#the creation of modular code, simplifying maintenance and reusability.\n",
    "#Functions are defined using the def keyword.\n",
    "# They can be called independently and are not bound to any object.\n",
    "\n",
    "#example\n",
    "def my_function():\n",
    "    print(\"This is a function\")\n",
    "\n",
    "my_function()  # Calling the function\n"
   ]
  },
  {
   "cell_type": "code",
   "execution_count": 2,
   "id": "acf9171d-e832-422a-b7bf-e569b1ef7ee7",
   "metadata": {},
   "outputs": [
    {
     "name": "stdout",
     "output_type": "stream",
     "text": [
      "This is a method\n"
     ]
    }
   ],
   "source": [
    "#method>>A method is a function that is defined within a class and is associated with an instance of that class.\n",
    "#Syntax: Methods are also defined using the def keyword, but they must be called on an object of the class.\n",
    "#They are called on an instance of a class (i.e., they are bound to the objects) and can access and modify the object's attributes.\n",
    "\n",
    "\n",
    "#example\n",
    "class MyClass:\n",
    "    def my_method(self):\n",
    "        print(\"This is a method\")\n",
    "\n",
    "obj = MyClass()\n",
    "obj.my_method()  # Calling the method on an instance of the class\n"
   ]
  },
  {
   "cell_type": "code",
   "execution_count": 4,
   "id": "e99b6f20-31c1-430e-8e18-9bf84ec4f035",
   "metadata": {},
   "outputs": [],
   "source": [
    "#Q2. Explain the concept of function arguments and parameters in Python?\n",
    "\n",
    "#ans :>>Parameters\n",
    "#Parameters are the variables listed inside the parentheses in the function definition.\n",
    "#They act as placeholders for the values that will be passed to the function when it is called.\n",
    "\n",
    "#Arguments\n",
    "#Arguments are the actual values passed to the function when it is called. \n",
    "#These values are assigned to the corresponding parameters in the function definition."
   ]
  },
  {
   "cell_type": "code",
   "execution_count": 7,
   "id": "046691e2-0769-47be-bd1f-ad407c32a264",
   "metadata": {},
   "outputs": [
    {
     "name": "stdout",
     "output_type": "stream",
     "text": [
      "Hello, Richa. You are 26 years old.\n"
     ]
    }
   ],
   "source": [
    "#Positional Parameters: These are defined in the function signature and are matched by \n",
    "#the position of the arguments provided in the function call.\n",
    "\n",
    "\n",
    "#example \n",
    "def greet(name, age):\n",
    "    print(f\"Hello, {name}. You are {age} years old.\")\n",
    "\n",
    "greet(age=26, name=\"Richa\")  # \"age\" and \"name\" are keyword arguments\n"
   ]
  },
  {
   "cell_type": "code",
   "execution_count": 9,
   "id": "8c25e366-0da7-4cc0-bf82-1577f8bc68c7",
   "metadata": {},
   "outputs": [
    {
     "name": "stdout",
     "output_type": "stream",
     "text": [
      "Hello, Richa. You are 26 years old.\n"
     ]
    }
   ],
   "source": [
    "#Keyword Parameters: These parameters are specified using the parameter name.\n",
    "\n",
    "#example\n",
    "\n",
    "def greet(name, age):\n",
    "    print(f\"Hello, {name}. You are {age} years old.\")\n",
    "\n",
    "greet(age=26, name=\"Richa\")  # \"age\" and \"name\" are keyword arguments\n"
   ]
  },
  {
   "cell_type": "code",
   "execution_count": 10,
   "id": "41f07339-39ea-4c2c-bcbf-9d794ef585f5",
   "metadata": {},
   "outputs": [],
   "source": [
    "# 3. What are the different ways to define and call a function in Python?\n",
    "\n",
    "#ans:>>The most basic way to define a function is using the def keyword followed by \n",
    "#the function name and parentheses containing any parameters.\n",
    "\n",
    "#example\n",
    "\n",
    "def greet():\n",
    "    print(\"Hello, world!\")\n",
    "    \n",
    "#we can define a function with parameters to pass information into it.\n",
    "\n",
    "#example\n",
    "def greet(name):\n",
    "    print(f\"Hello, {name}!\")\n",
    "\n",
    "\n"
   ]
  },
  {
   "cell_type": "code",
   "execution_count": 11,
   "id": "4d2f2c3e-580f-4323-b954-af7d34c770ab",
   "metadata": {},
   "outputs": [],
   "source": [
    "# Define small, anonymous functions using the lambda keyword.\n",
    "\n",
    "add = lambda x, y: x + y\n"
   ]
  },
  {
   "cell_type": "code",
   "execution_count": 12,
   "id": "448ad191-1d31-4462-94ec-e2122d096b2f",
   "metadata": {},
   "outputs": [
    {
     "data": {
      "text/plain": [
       "5"
      ]
     },
     "execution_count": 12,
     "metadata": {},
     "output_type": "execute_result"
    }
   ],
   "source": [
    "add(2, 3)"
   ]
  },
  {
   "cell_type": "code",
   "execution_count": 13,
   "id": "aa7a477d-d0d4-45c3-b784-658033be3303",
   "metadata": {},
   "outputs": [
    {
     "name": "stdout",
     "output_type": "stream",
     "text": [
      "8\n"
     ]
    }
   ],
   "source": [
    "#4. What is the purpose of the `return` statement in a Python function?\n",
    "\n",
    "#ans: >>The primary purpose of the return statement is to return a value from a function to the caller. When a return statement is executed, \n",
    "#the function terminates and the specified value is passed back to the caller.\n",
    "\n",
    "#example\n",
    "def add(a, b):\n",
    "    return a + b\n",
    "\n",
    "result = add(3, 5)\n",
    "print(result)  # Output: 8\n"
   ]
  },
  {
   "cell_type": "code",
   "execution_count": 14,
   "id": "2f5adf2b-59b4-4824-8116-331a9c89dcff",
   "metadata": {},
   "outputs": [
    {
     "name": "stdout",
     "output_type": "stream",
     "text": [
      "Even\n",
      "Odd\n"
     ]
    }
   ],
   "source": [
    "#The return statement can be used to exit a function before it reaches the end. This is useful for conditional exits or to avoid \n",
    "#executing further code when a certain condition is met.\n",
    "\n",
    "\n",
    "#example\n",
    "def check_even(number):\n",
    "    if number % 2 == 0:\n",
    "        return \"Even\"\n",
    "    return \"Odd\"\n",
    "\n",
    "print(check_even(4))  # Output: Even\n",
    "print(check_even(7))  # Output: Odd\n"
   ]
  },
  {
   "cell_type": "code",
   "execution_count": 16,
   "id": "e96e9116-a9ce-4421-9b49-57850b614269",
   "metadata": {},
   "outputs": [
    {
     "name": "stdout",
     "output_type": "stream",
     "text": [
      "Name: Richa, Age: 26\n"
     ]
    }
   ],
   "source": [
    "#Python functions can return multiple values by using tuples. This allows you to return more than one value from a function.\n",
    "\n",
    "#example\n",
    "def get_name_and_age():\n",
    "    name = \"Richa\"\n",
    "    age = 26\n",
    "    return name, age\n",
    "\n",
    "name, age = get_name_and_age()\n",
    "print(f\"Name: {name}, Age: {age}\")  # Output: Name: Alice, Age: 30\n"
   ]
  },
  {
   "cell_type": "code",
   "execution_count": 17,
   "id": "ca80e48d-f058-4d9a-8ec3-e330055ecdbf",
   "metadata": {},
   "outputs": [
    {
     "name": "stdout",
     "output_type": "stream",
     "text": [
      "1\n",
      "2\n",
      "3\n",
      "h\n",
      "e\n",
      "l\n",
      "l\n",
      "o\n",
      "1\n",
      "2\n",
      "3\n",
      "a 1\n",
      "b 2\n"
     ]
    }
   ],
   "source": [
    "#Q5. What are iterators in Python and how do they differ from iterables?\n",
    "\n",
    "\n",
    "#ans: >> An iterable is any Python object capable of returning its members one at a time, \n",
    "#allowing it to be looped over in a for loop. Examples of iterables include \n",
    "#lists, tuples, strings, dictionaries, and sets.\n",
    "#They implement the __iter__() method, which returns an iterator.\n",
    "\n",
    "#example\n",
    "# List\n",
    "my_list = [1, 2, 3]\n",
    "for item in my_list:\n",
    "    print(item)\n",
    "\n",
    "# String\n",
    "my_string = \"hello\"\n",
    "for char in my_string:\n",
    "    print(char)\n",
    "\n",
    "# Tuple\n",
    "my_tuple = (1, 2, 3)\n",
    "for item in my_tuple:\n",
    "    print(item)\n",
    "\n",
    "# Dictionary\n",
    "my_dict = {'a': 1, 'b': 2}\n",
    "for key in my_dict:\n",
    "    print(key, my_dict[key])\n"
   ]
  },
  {
   "cell_type": "code",
   "execution_count": 18,
   "id": "beff6c25-6d71-47bc-9ac9-e5429bd51daf",
   "metadata": {},
   "outputs": [],
   "source": [
    "#Q6. Explain the concept of generators in Python and how they are defined\n",
    "\n",
    "#ans: >>Generators in Python are a type of iterable, like lists or tuples, but they generate items \n",
    "#one at a time and only as needed, which makes them more memory efficient. They are particularly useful\n",
    "#for handling large datasets or streams of data where you \n",
    "#don't want to load everything into memory at once.\n",
    "\n",
    "#Iterators: Generators are a special kind of iterator. They implement both the __iter__() and __next__() methods."
   ]
  },
  {
   "cell_type": "code",
   "execution_count": 20,
   "id": "9a3626f5-f19d-4daa-a787-6d374282ef95",
   "metadata": {},
   "outputs": [
    {
     "name": "stdout",
     "output_type": "stream",
     "text": [
      "1\n",
      "2\n",
      "3\n",
      "4\n",
      "5\n"
     ]
    }
   ],
   "source": [
    "#1. Generator Functions\n",
    "#A generator function is defined like a normal function, but instead of returning\n",
    "#A value with return, it uses the yield keyword to yield values one at a time.\n",
    "\n",
    "#example\n",
    "def count_up_to(max):\n",
    "    count = 1\n",
    "    while count <= max:\n",
    "        yield count\n",
    "        count += 1\n",
    "\n",
    "# Using the generator\n",
    "counter = count_up_to(5)\n",
    "for num in counter:\n",
    "    print(num)\n"
   ]
  },
  {
   "cell_type": "code",
   "execution_count": 21,
   "id": "7ef40728-75dc-4eeb-924e-035cfeb8d503",
   "metadata": {},
   "outputs": [
    {
     "name": "stdout",
     "output_type": "stream",
     "text": [
      "0\n",
      "1\n",
      "4\n",
      "9\n",
      "16\n"
     ]
    }
   ],
   "source": [
    "#2. Generator Expressions\n",
    "#Generator expressions provide a concise way to create generators using a syntax similar to list \n",
    "#comprehensions, but with parentheses instead of square brackets.\n",
    "\n",
    "#example\n",
    "# Generator expression to create a generator that yields squares of numbers\n",
    "squares = (x * x for x in range(5))\n",
    "\n",
    "# Using the generator\n",
    "for square in squares:\n",
    "    print(square)\n"
   ]
  },
  {
   "cell_type": "code",
   "execution_count": 22,
   "id": "90ee95a3-3d1b-4ec3-98b0-6a1e7fde7e50",
   "metadata": {},
   "outputs": [],
   "source": [
    "#7. What are the advantages of using generators over regular functions?\n",
    "\n",
    "#Regular functions that return a list or another collection hold all the values in memory at once. \n",
    "#This can be very memory-intensive, especially with large datasets.\n",
    "\n",
    "#Generators yield one item at a time and only when requested, thus they don't need to store the entire dataset in memory.\n",
    "#This makes them significantly more memory-efficient."
   ]
  },
  {
   "cell_type": "code",
   "execution_count": 23,
   "id": "33d5265e-b0e7-43f5-b134-875973748cea",
   "metadata": {},
   "outputs": [],
   "source": [
    "#Example\n",
    "\n",
    "# Regular function\n",
    "def get_numbers_list(n):\n",
    "    return [i for i in range(n)]\n",
    "\n",
    "# Generator function\n",
    "def get_numbers_gen(n):\n",
    "    for i in range(n):\n",
    "        yield i\n"
   ]
  },
  {
   "cell_type": "code",
   "execution_count": 24,
   "id": "5bb075ab-11d7-4ae1-8e0a-1d0a316c6c93",
   "metadata": {},
   "outputs": [
    {
     "data": {
      "text/plain": [
       "[0, 1, 2, 3, 4]"
      ]
     },
     "execution_count": 24,
     "metadata": {},
     "output_type": "execute_result"
    }
   ],
   "source": [
    "get_numbers_list(5)"
   ]
  },
  {
   "cell_type": "code",
   "execution_count": 25,
   "id": "e93b1fde-0855-4145-bd08-f7afd1351f1d",
   "metadata": {},
   "outputs": [
    {
     "data": {
      "text/plain": [
       "<generator object get_numbers_gen at 0x7fd1a8d45f50>"
      ]
     },
     "execution_count": 25,
     "metadata": {},
     "output_type": "execute_result"
    }
   ],
   "source": [
    "get_numbers_gen(6)"
   ]
  },
  {
   "cell_type": "code",
   "execution_count": 26,
   "id": "7b89c520-7dcb-41c6-8d40-4178f4ee1ec7",
   "metadata": {},
   "outputs": [],
   "source": [
    "#8. What is a lambda function in Python and when is it typically used?\n",
    "\n",
    "#ans: >>A lambda function in Python is a small, anonymous function defined using the lambda keyword.\n",
    "#Unlike regular functions defined with the def keyword, lambda functions are limited to a single expression \n",
    "#and do not have a name. They are typically used for short, simple\n",
    "#operations where defining a full function would be cumbersome."
   ]
  },
  {
   "cell_type": "code",
   "execution_count": 27,
   "id": "7968100f-6320-4c37-9e3b-410f9e0542a0",
   "metadata": {},
   "outputs": [
    {
     "data": {
      "text/plain": [
       "<function __main__.<lambda>(arguments)>"
      ]
     },
     "execution_count": 27,
     "metadata": {},
     "output_type": "execute_result"
    }
   ],
   "source": [
    "#example \n",
    "lambda arguments: expression\n",
    "#lambda is the keyword used to define the function.\n",
    "#arguments are the inputs to the function, separated by commas.\n",
    "#expression is the single expression evaluated and returned by the lambda function."
   ]
  },
  {
   "cell_type": "code",
   "execution_count": 28,
   "id": "5ecdefeb-8151-452b-972a-340a2f0c5f44",
   "metadata": {},
   "outputs": [
    {
     "name": "stdout",
     "output_type": "stream",
     "text": [
      "8\n"
     ]
    }
   ],
   "source": [
    "#example \n",
    "add = lambda x, y: x + y\n",
    "print(add(3, 5))  # Output: 8\n"
   ]
  },
  {
   "cell_type": "code",
   "execution_count": 32,
   "id": "8a107229-bfc7-44f0-812b-6c60ec4d680d",
   "metadata": {},
   "outputs": [
    {
     "name": "stdout",
     "output_type": "stream",
     "text": [
      "8\n"
     ]
    }
   ],
   "source": [
    "#example \n",
    "add = lambda x, y: x + y\n",
    "\n",
    "print(add(3, 5))  # Output: 8\n"
   ]
  },
  {
   "cell_type": "code",
   "execution_count": 34,
   "id": "c6842530-7d29-439b-b743-bf2a8a580d6d",
   "metadata": {},
   "outputs": [],
   "source": [
    "##Q9. Explain the purpose and usage of the `map()` function in Python?\n",
    "\n",
    "#The primary purpose of the map() function is to simplify the process of applying a\n",
    "#function to each item in an iterable, making the code cleaner and more readable.\n",
    "#It helps to avoid writing explicit loops for such operations.\n",
    "\n",
    "#example\n",
    "map(function, iterable, ...)\n"
   ]
  },
  {
   "cell_type": "code",
   "execution_count": 35,
   "id": "ac0c56b7-c63e-4f39-ab69-e9db718d24bf",
   "metadata": {},
   "outputs": [
    {
     "name": "stdout",
     "output_type": "stream",
     "text": [
      "[1, 4, 9, 16, 25]\n"
     ]
    }
   ],
   "source": [
    "def square(x):\n",
    "    return x * x\n",
    "\n",
    "numbers = [1, 2, 3, 4, 5]\n",
    "squared_numbers = map(square, numbers)\n",
    "\n",
    "print(list(squared_numbers))  # Output: [1, 4, 9, 16, 25]\n"
   ]
  },
  {
   "cell_type": "code",
   "execution_count": 36,
   "id": "62c90e8b-ba49-46a3-beaa-46ca4e0c6130",
   "metadata": {},
   "outputs": [],
   "source": [
    "#Q10. What is the difference between `map()`, `reduce()`, and `filter()` functions in Python?\n",
    "\n",
    "#ans: >>The functions map (), filter (), and reduce () all do the same thing: They each take a function and a list of elements, \n",
    "#and then return the result of applying the function to each element in the list."
   ]
  },
  {
   "cell_type": "code",
   "execution_count": 49,
   "id": "f70c3dd4-b684-47a4-9047-430e376803e7",
   "metadata": {},
   "outputs": [],
   "source": [
    "#Practical Questions\n",
    "\n",
    "#Q1. Write a Python function that takes a list of numbers as input and returns the sum of all even numbers in the list\n",
    "\n"
   ]
  },
  {
   "cell_type": "code",
   "execution_count": 67,
   "id": "68056089-fc0e-479e-bde4-ad6281de4ddd",
   "metadata": {},
   "outputs": [
    {
     "name": "stdout",
     "output_type": "stream",
     "text": [
      "Sum of even numbers: 60\n"
     ]
    }
   ],
   "source": [
    "def sum_even_numbers(my_list):\n",
    "   \n",
    " return sum(num for num in my_list if num % 2 == 0)\n",
    "\n",
    "# Example usage:\n",
    "my_list = [1, 3, 5, 6, 8, 10, 34, 2, 0, 3]\n",
    "result = sum_even_numbers(my_list)\n",
    "print(f\"Sum of even numbers: {result}\")"
   ]
  },
  {
   "cell_type": "code",
   "execution_count": 68,
   "id": "69ed1ba8-ceed-42fe-9606-74859942314d",
   "metadata": {},
   "outputs": [
    {
     "name": "stdout",
     "output_type": "stream",
     "text": [
      "Reversed string: dlrow olleh\n"
     ]
    }
   ],
   "source": [
    "#Q2. Create a Python function that accepts a string and returns the reverse of that string?\n",
    "\n",
    "#ans: >>\n",
    "def reverse_string(s):\n",
    "    return s[::-1]\n",
    "\n",
    "# Example usage:\n",
    "original_string = \"hello world\"\n",
    "reversed_string = reverse_string(original_string)\n",
    "print(f\"Reversed string: {reversed_string}\")"
   ]
  },
  {
   "cell_type": "code",
   "execution_count": 69,
   "id": "7bfea5b3-8d5e-47cd-a6d9-87af7769eb8a",
   "metadata": {},
   "outputs": [],
   "source": [
    "#Q3. Implement a Python function that takes a list of integers and returns a new list containing the squares of each number?\n",
    "\n",
    "#ans: >>\n",
    "\n",
    "def square_numbers(numbers):\n",
    "   \n",
    "    return [num ** 2 for num in numbers]"
   ]
  },
  {
   "cell_type": "code",
   "execution_count": 71,
   "id": "6e0f8979-290c-4593-993b-8b53ed157ab3",
   "metadata": {},
   "outputs": [
    {
     "name": "stdout",
     "output_type": "stream",
     "text": [
      "[1, 4, 9, 16, 25]\n"
     ]
    }
   ],
   "source": [
    "my_numbers = [1, 2, 3, 4, 5]\n",
    "squared_list = square_numbers(my_numbers)\n",
    "print(squared_list)"
   ]
  },
  {
   "cell_type": "code",
   "execution_count": 74,
   "id": "995b9e17-75bf-4bcc-939b-d862413dbbc3",
   "metadata": {},
   "outputs": [
    {
     "name": "stdout",
     "output_type": "stream",
     "text": [
      "True\n",
      "False\n"
     ]
    }
   ],
   "source": [
    "#Q4. Write a Python function that checks if a given number is prime or not from 1 to 200\n",
    "\n",
    "#ans: >>\n",
    "\n",
    "import math\n",
    "\n",
    "def is_prime(num):\n",
    "    for n in range(2, int(math.sqrt(num)) + 1):\n",
    "        if num % n == 0:\n",
    "            return False\n",
    "    return True\n",
    "\n",
    "print(is_prime(7))  \n",
    "print(is_prime(8)) "
   ]
  },
  {
   "cell_type": "code",
   "execution_count": 75,
   "id": "da68dfcf-0a18-4175-9318-d0e0c412895f",
   "metadata": {},
   "outputs": [
    {
     "name": "stdout",
     "output_type": "stream",
     "text": [
      "1\n",
      "1\n",
      "2\n",
      "3\n",
      "5\n",
      "8\n",
      "13\n",
      "21\n",
      "34\n",
      "55\n"
     ]
    }
   ],
   "source": [
    "#Q5. Create an iterator class in Python that generates the Fibonacci sequence up to a specified number of terms\n",
    "\n",
    "#ans: >>\n",
    "class Fibonacci:\n",
    "    def __init__(self, n):\n",
    "        self.n = n\n",
    "        self.a, self.b = 0, 1\n",
    "\n",
    "    def __iter__(self):\n",
    "        return self\n",
    "\n",
    "    def __next__(self):\n",
    "        if self.n <= 0:\n",
    "            raise StopIteration(\"Exhausted!\")\n",
    "        self.a, self.b = self.b, self.a + self.b\n",
    "        self.n -= 1\n",
    "        return self.a\n",
    "\n",
    "# Example usage:\n",
    "fibonacci_iterator = Fibonacci(10)\n",
    "for term in fibonacci_iterator:\n",
    "    print(term)"
   ]
  },
  {
   "cell_type": "code",
   "execution_count": 76,
   "id": "a791d5cc-e8c3-489f-aac9-e5be70e44119",
   "metadata": {},
   "outputs": [
    {
     "name": "stdout",
     "output_type": "stream",
     "text": [
      "2\n",
      "4\n",
      "8\n",
      "16\n",
      "32\n",
      "64\n",
      "128\n",
      "256\n",
      "512\n",
      "1024\n"
     ]
    }
   ],
   "source": [
    "#Q6. Write a generator function in Python that yields the powers of 2 up to a given exponen\n",
    "\n",
    "#ans:>>\n",
    "\n",
    "def powers_of_two(exponent):\n",
    "    yield from (2**p for p in range(1, exponent + 1))\n",
    "\n",
    "# Example usage:\n",
    "for power in powers_of_two(10):\n",
    "    print(power)"
   ]
  },
  {
   "cell_type": "code",
   "execution_count": 77,
   "id": "2ce6f0cd-634a-41f1-97c8-ff6506b8f928",
   "metadata": {},
   "outputs": [],
   "source": [
    "#Q7. Implement a generator function that reads a file line by line and yields each line as a string\n",
    "\n",
    "#dont know the anwers"
   ]
  },
  {
   "cell_type": "code",
   "execution_count": 79,
   "id": "31fd13f6-6260-403e-9519-e6ccfa05064e",
   "metadata": {},
   "outputs": [
    {
     "name": "stdout",
     "output_type": "stream",
     "text": [
      "[('abc', 121), ('abc', 148), ('abc', 221), ('abc', 231)]\n"
     ]
    }
   ],
   "source": [
    "#Q8. Use a lambda function in Python to sort a list of tuples based on the second element of each tuple\n",
    "\n",
    "#ans: >>\n",
    "\n",
    "data = [('abc', 121), ('abc', 231), ('abc', 148), ('abc', 221)]\n",
    "sorted_list = sorted(data, key=lambda x: x[1])\n",
    "print(sorted_list)\n"
   ]
  },
  {
   "cell_type": "code",
   "execution_count": 80,
   "id": "f899baf7-3aea-456e-83c2-cbfe8fef654b",
   "metadata": {},
   "outputs": [
    {
     "name": "stdout",
     "output_type": "stream",
     "text": [
      "Celsius Temperatures: [25, 30, 35, 40]\n",
      "Fahrenheit Temperatures: [77.0, 86.0, 95.0, 104.0]\n"
     ]
    }
   ],
   "source": [
    "#Q9. Write a Python program that uses `map()` to convert a list of temperatures from Celsius to Fahrenheit\n",
    "\n",
    "#ans: >>\n",
    "\n",
    "def celsius_to_fahrenheit(celsius):\n",
    "    return (celsius * 1.8) + 32\n",
    "\n",
    "# Example usage:\n",
    "celsius_temperatures = [25, 30, 35, 40]\n",
    "fahrenheit_temperatures = list(map(celsius_to_fahrenheit, celsius_temperatures))\n",
    "\n",
    "print(\"Celsius Temperatures:\", celsius_temperatures)\n",
    "print(\"Fahrenheit Temperatures:\", fahrenheit_temperatures)"
   ]
  },
  {
   "cell_type": "code",
   "execution_count": 85,
   "id": "04ed25d5-b759-49f7-858f-bfda3b6113a4",
   "metadata": {},
   "outputs": [
    {
     "name": "stdin",
     "output_type": "stream",
     "text": [
      "Enter a string:  richa\n"
     ]
    },
    {
     "name": "stdout",
     "output_type": "stream",
     "text": [
      "String after removing vowels: rc\n"
     ]
    }
   ],
   "source": [
    "#Q10. Create a Python program that uses `filter()` to remove all the vowels from a given string\n",
    "\n",
    "\n",
    "#ans: >>\n",
    "\n",
    "\n",
    "def remove_vowels(string):\n",
    "    vowels = 'aeioughpl'\n",
    "    filtered_string = ''.join(filter(lambda x: x not in vowels, string))\n",
    "    return filtered_string\n",
    "\n",
    "user_input = input(\"Enter a string: \")\n",
    "result = remove_vowels(user_input)\n",
    "print(\"String after removing vowels:\", result)"
   ]
  },
  {
   "cell_type": "code",
   "execution_count": null,
   "id": "69262d67-2b25-4bb7-a4c9-8e52db455316",
   "metadata": {},
   "outputs": [],
   "source": []
  }
 ],
 "metadata": {
  "kernelspec": {
   "display_name": "Python 3 (ipykernel)",
   "language": "python",
   "name": "python3"
  },
  "language_info": {
   "codemirror_mode": {
    "name": "ipython",
    "version": 3
   },
   "file_extension": ".py",
   "mimetype": "text/x-python",
   "name": "python",
   "nbconvert_exporter": "python",
   "pygments_lexer": "ipython3",
   "version": "3.10.8"
  }
 },
 "nbformat": 4,
 "nbformat_minor": 5
}
